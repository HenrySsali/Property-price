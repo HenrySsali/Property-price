{
 "cells": [
  {
   "cell_type": "markdown",
   "id": "e42cb965-2bc8-4084-b40d-88ee8a7ada12",
   "metadata": {},
   "source": [
    "__HOUSE PRICE PREDICTION__"
   ]
  },
  {
   "cell_type": "code",
   "execution_count": 4,
   "id": "484c3034-7d6a-4f48-adb1-ddf8590899cf",
   "metadata": {},
   "outputs": [
    {
     "name": "stdout",
     "output_type": "stream",
     "text": [
      "2\n"
     ]
    }
   ],
   "source": [
    "# Importing libraries and dataset\n",
    "import pandas as pd\n",
    "import matplotlib.pyplot as plt\n",
    "import seaborn as sns\n",
    "dataset = pd.read_csv(\"\")"
   ]
  },
  {
   "cell_type": "code",
   "execution_count": null,
   "id": "c7940d59-f7f9-4f4f-8a98-1157ab23fbeb",
   "metadata": {},
   "outputs": [],
   "source": []
  }
 ],
 "metadata": {
  "kernelspec": {
   "display_name": "Python 3 (ipykernel)",
   "language": "python",
   "name": "python3"
  },
  "language_info": {
   "codemirror_mode": {
    "name": "ipython",
    "version": 3
   },
   "file_extension": ".py",
   "mimetype": "text/x-python",
   "name": "python",
   "nbconvert_exporter": "python",
   "pygments_lexer": "ipython3",
   "version": "3.12.7"
  }
 },
 "nbformat": 4,
 "nbformat_minor": 5
}
